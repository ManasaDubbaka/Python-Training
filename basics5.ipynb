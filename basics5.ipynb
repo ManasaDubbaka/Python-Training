{
 "cells": [
  {
   "cell_type": "code",
   "execution_count": 3,
   "metadata": {},
   "outputs": [
    {
     "name": "stdout",
     "output_type": "stream",
     "text": [
      "True\n",
      "True\n"
     ]
    }
   ],
   "source": [
    "x='a'\n",
    "s1=\"python\"\n",
    "print(x.islower())\n",
    "print(s1.islower())"
   ]
  },
  {
   "cell_type": "code",
   "execution_count": 6,
   "metadata": {},
   "outputs": [
    {
     "name": "stdout",
     "output_type": "stream",
     "text": [
      "True\n",
      "False\n"
     ]
    }
   ],
   "source": [
    "x='A'\n",
    "s=\"Application\"\n",
    "print(x.isupper())\n",
    "print(s.isupper())"
   ]
  },
  {
   "cell_type": "code",
   "execution_count": 8,
   "metadata": {},
   "outputs": [
    {
     "name": "stdout",
     "output_type": "stream",
     "text": [
      "True\n",
      "False\n"
     ]
    }
   ],
   "source": [
    "x=\"5467\"\n",
    "y=\"198fgt\"\n",
    "print(x.isnumeric())\n",
    "print(y.isnumeric())"
   ]
  },
  {
   "cell_type": "code",
   "execution_count": 11,
   "metadata": {},
   "outputs": [
    {
     "name": "stdout",
     "output_type": "stream",
     "text": [
      "False\n",
      "True\n"
     ]
    }
   ],
   "source": [
    "x=\"yoo78\"\n",
    "y=\"hello\"\n",
    "print(x.isalpha())\n",
    "print(y.isalpha())"
   ]
  },
  {
   "cell_type": "code",
   "execution_count": 13,
   "metadata": {},
   "outputs": [
    {
     "name": "stdout",
     "output_type": "stream",
     "text": [
      "True\n",
      "False\n"
     ]
    }
   ],
   "source": [
    "x=\"Application\"\n",
    "y=\"helloWorld\"\n",
    "print(x.istitle())\n",
    "print(y.istitle())"
   ]
  },
  {
   "cell_type": "code",
   "execution_count": 17,
   "metadata": {},
   "outputs": [
    {
     "name": "stdout",
     "output_type": "stream",
     "text": [
      "False\n",
      "False\n"
     ]
    }
   ],
   "source": [
    "x=\"hello world \"\n",
    "y=\"Application\"\n",
    "print(x.isspace())\n",
    "print(y.isspace())"
   ]
  },
  {
   "cell_type": "code",
   "execution_count": 22,
   "metadata": {},
   "outputs": [
    {
     "name": "stdout",
     "output_type": "stream",
     "text": [
      "h e l l o\n"
     ]
    }
   ],
   "source": [
    "x=\"hello\"\n",
    "print(\" \".join(x))\n"
   ]
  },
  {
   "cell_type": "code",
   "execution_count": 4,
   "metadata": {},
   "outputs": [
    {
     "name": "stdout",
     "output_type": "stream",
     "text": [
      "Python,Programming\n"
     ]
    }
   ],
   "source": [
    "print(\",\".join((\"Python\",\"Programming\")))"
   ]
  },
  {
   "cell_type": "code",
   "execution_count": 8,
   "metadata": {},
   "outputs": [
    {
     "name": "stdout",
     "output_type": "stream",
     "text": [
      "['Pyhton', 'programming', 'is', 'easy,to,', 'learn']\n",
      "['Pyhton progr', 'mming is e', 'sy,to, le', 'rn']\n",
      "['Pyhton programming is easy', 'to', ' learn']\n"
     ]
    }
   ],
   "source": [
    "s=\"Pyhton programming is easy,to, learn\"\n",
    "print(s.split(\" \"))\n",
    "print(s.split(\"a\"))\n",
    "print(s.split(\",\"))\n"
   ]
  },
  {
   "cell_type": "code",
   "execution_count": 13,
   "metadata": {},
   "outputs": [
    {
     "name": "stdout",
     "output_type": "stream",
     "text": [
      "['Python', 'programming', 'is', 'easy', 'to', 'learn']\n",
      "2\n"
     ]
    }
   ],
   "source": [
    "s=\"Python programming is easy to learn\"\n",
    "list=s.split()\n",
    "print(list)\n",
    "print(list.index(\"is\"))"
   ]
  },
  {
   "cell_type": "code",
   "execution_count": 1,
   "metadata": {},
   "outputs": [
    {
     "name": "stdout",
     "output_type": "stream",
     "text": [
      "['p', 'y', 't', 'h', 'o', 'n', ' ', 'p', 'r', 'o', 'g', 'r', 'a', 'm', 'm', 'i', 'n', 'g', ' ', 'i', 's', ' ', 'e', 'a', 's', 'y', ' ', 't', 'o', ' ', 'l', 'e', 'a', 'r', 'n']\n"
     ]
    }
   ],
   "source": [
    "s =\"python programming is easy to learn\"\n",
    "lst = list(s)\n",
    "print(lst)"
   ]
  },
  {
   "cell_type": "code",
   "execution_count": 4,
   "metadata": {},
   "outputs": [
    {
     "name": "stdout",
     "output_type": "stream",
     "text": [
      "python proapplicationsmming\n"
     ]
    }
   ],
   "source": [
    "s=\"python programming\"\n",
    "print(s.replace(\"gra\",\"applications\"))"
   ]
  },
  {
   "cell_type": "code",
   "execution_count": 6,
   "metadata": {},
   "outputs": [
    {
     "name": "stdout",
     "output_type": "stream",
     "text": [
      "('Python', '1998', '2019', 'Machine learning', 'AI')\n",
      "(1, 2, 3, 4, 5)\n"
     ]
    }
   ],
   "source": [
    "t1=(\"Python\",\"1998\",\"2019\",\"Machine learning\",\"AI\")\n",
    "t2=(1,2,3,4,5)\n",
    "print(t1)\n",
    "print(t2)"
   ]
  },
  {
   "cell_type": "code",
   "execution_count": 14,
   "metadata": {},
   "outputs": [
    {
     "name": "stdout",
     "output_type": "stream",
     "text": [
      "t1[0]= Python\n",
      "AI\n",
      "('1998', '2019', 'Machine learning')\n",
      "('Python', 'AI')\n",
      "()\n",
      "('1998', '2019', 'Machine learning')\n"
     ]
    }
   ],
   "source": [
    "t1=(\"Python\",\"1998\",\"2019\",\"Machine learning\",\"AI\")\n",
    "print(\"t1[0]=\",t1[0])\n",
    "print(t1[-1])\n",
    "print(t1[1:4])\n",
    "print(t1[::4])\n",
    "print(t1[-1:-3])\n",
    "print(t1[1:-1])"
   ]
  },
  {
   "cell_type": "code",
   "execution_count": 1,
   "metadata": {},
   "outputs": [
    {
     "name": "stdout",
     "output_type": "stream",
     "text": [
      "('Python', '1998', '2019', 'Machine learning', 'AI')\n"
     ]
    },
    {
     "ename": "NameError",
     "evalue": "name 't1' is not defined",
     "output_type": "error",
     "traceback": [
      "\u001b[0;31m---------------------------------------------------------------------------\u001b[0m",
      "\u001b[0;31mNameError\u001b[0m                                 Traceback (most recent call last)",
      "\u001b[0;32m<ipython-input-1-4ebca8478299>\u001b[0m in \u001b[0;36m<module>\u001b[0;34m\u001b[0m\n\u001b[1;32m      2\u001b[0m \u001b[0mprint\u001b[0m\u001b[0;34m(\u001b[0m\u001b[0mt1\u001b[0m\u001b[0;34m)\u001b[0m\u001b[0;34m\u001b[0m\u001b[0;34m\u001b[0m\u001b[0m\n\u001b[1;32m      3\u001b[0m \u001b[0;32mdel\u001b[0m \u001b[0mt1\u001b[0m\u001b[0;34m\u001b[0m\u001b[0;34m\u001b[0m\u001b[0m\n\u001b[0;32m----> 4\u001b[0;31m \u001b[0mprint\u001b[0m\u001b[0;34m(\u001b[0m\u001b[0mt1\u001b[0m\u001b[0;34m)\u001b[0m\u001b[0;34m\u001b[0m\u001b[0;34m\u001b[0m\u001b[0m\n\u001b[0m",
      "\u001b[0;31mNameError\u001b[0m: name 't1' is not defined"
     ]
    }
   ],
   "source": [
    "t1=(\"Python\",\"1998\",\"2019\",\"Machine learning\",\"AI\")\n",
    "print(t1)\n",
    "del t1\n",
    "print(t1)"
   ]
  },
  {
   "cell_type": "code",
   "execution_count": 4,
   "metadata": {},
   "outputs": [
    {
     "name": "stdout",
     "output_type": "stream",
     "text": [
      "('Python', '1998', '2019', 'Machine learning', 'AI', '1234', 'ML', 'AI')\n",
      "5\n",
      "Python\n"
     ]
    }
   ],
   "source": [
    "t1=(\"Python\",\"1998\",\"2019\",\"Machine learning\",\"AI\")\n",
    "t2=(\"1234\",\"ML\",\"AI\")\n",
    "t3=t1+t2\n",
    "print(t3)\n",
    "print(len(t1))\n",
    "print(max(t1))"
   ]
  },
  {
   "cell_type": "code",
   "execution_count": 8,
   "metadata": {},
   "outputs": [
    {
     "name": "stdout",
     "output_type": "stream",
     "text": [
      "5\n",
      "1\n"
     ]
    },
    {
     "ename": "NameError",
     "evalue": "name 'cmp' is not defined",
     "output_type": "error",
     "traceback": [
      "\u001b[0;31m---------------------------------------------------------------------------\u001b[0m",
      "\u001b[0;31mNameError\u001b[0m                                 Traceback (most recent call last)",
      "\u001b[0;32m<ipython-input-8-0fcde8f72f7f>\u001b[0m in \u001b[0;36m<module>\u001b[0;34m\u001b[0m\n\u001b[1;32m      3\u001b[0m \u001b[0mprint\u001b[0m\u001b[0;34m(\u001b[0m\u001b[0mmax\u001b[0m\u001b[0;34m(\u001b[0m\u001b[0mt1\u001b[0m\u001b[0;34m)\u001b[0m\u001b[0;34m)\u001b[0m\u001b[0;34m\u001b[0m\u001b[0;34m\u001b[0m\u001b[0m\n\u001b[1;32m      4\u001b[0m \u001b[0mprint\u001b[0m\u001b[0;34m(\u001b[0m\u001b[0mmin\u001b[0m\u001b[0;34m(\u001b[0m\u001b[0mt1\u001b[0m\u001b[0;34m)\u001b[0m\u001b[0;34m)\u001b[0m\u001b[0;34m\u001b[0m\u001b[0;34m\u001b[0m\u001b[0m\n\u001b[0;32m----> 5\u001b[0;31m \u001b[0ma\u001b[0m\u001b[0;34m=\u001b[0m\u001b[0mcmp\u001b[0m\u001b[0;34m(\u001b[0m\u001b[0mt1\u001b[0m\u001b[0;34m,\u001b[0m\u001b[0mt2\u001b[0m\u001b[0;34m)\u001b[0m\u001b[0;34m\u001b[0m\u001b[0;34m\u001b[0m\u001b[0m\n\u001b[0m\u001b[1;32m      6\u001b[0m \u001b[0mprint\u001b[0m\u001b[0;34m(\u001b[0m\u001b[0ma\u001b[0m\u001b[0;34m)\u001b[0m\u001b[0;34m\u001b[0m\u001b[0;34m\u001b[0m\u001b[0m\n",
      "\u001b[0;31mNameError\u001b[0m: name 'cmp' is not defined"
     ]
    }
   ],
   "source": [
    "t1=(1,2,3,4,5)\n",
    "t2=(\"hey\",\"yoo\")\n",
    "print(max(t1))\n",
    "print(min(t1))\n",
    "a=cmp(t1,t2)\n",
    "print(a)"
   ]
  },
  {
   "cell_type": "code",
   "execution_count": 10,
   "metadata": {},
   "outputs": [
    {
     "name": "stdout",
     "output_type": "stream",
     "text": [
      "['Python', '1998', '2019', 'Machine learning', 'AI']\n",
      "('Python', '1998', '2019', 'Machine learning', 'AI')\n"
     ]
    }
   ],
   "source": [
    "list1=[\"Python\",\"1998\",\"2019\",\"Machine learning\",\"AI\"]\n",
    "print(list1)\n",
    "tuple1 =tuple(list1)\n",
    "print(tuple1)"
   ]
  },
  {
   "cell_type": "code",
   "execution_count": 12,
   "metadata": {},
   "outputs": [
    {
     "name": "stdout",
     "output_type": "stream",
     "text": [
      "user1name= manasa\n",
      "user1age= 18\n",
      "4\n"
     ]
    }
   ],
   "source": [
    "user1={'name':'manasa','age':'18','contact number': '9868451274','email': 'manasa@gmail.com'}\n",
    "print(\"user1name=\",user1['name'])\n",
    "print(\"user1age=\",user1['age'])\n",
    "print(len(user1))"
   ]
  },
  {
   "cell_type": "code",
   "execution_count": 8,
   "metadata": {},
   "outputs": [
    {
     "name": "stdout",
     "output_type": "stream",
     "text": [
      "user1['email']= manasa@gmail.com\n",
      "user1['email']= manasa34@gmail.com\n",
      "user1[address]= hyderabad\n"
     ]
    }
   ],
   "source": [
    "user1={'name':'manasa','age':'18','contact number': '9868451274','email': 'manasa@gmail.com'}\n",
    "print(\"user1['email']=\",user1['email'])\n",
    "user1['email']='manasa34@gmail.com'\n",
    "print(\"user1['email']=\",user1['email'])\n",
    "user1['address']=\"hyderabad\"\n",
    "print(\"user1[address]=\",user1['address'])      \n",
    "      "
   ]
  },
  {
   "cell_type": "code",
   "execution_count": 11,
   "metadata": {},
   "outputs": [],
   "source": [
    "user1={'name':'manasa','age':'18','contact number': '9868451274','email': 'manasa@gmail.com'}\n",
    "del (user1['email'])\n",
    "user1.clear()\n",
    "del user1"
   ]
  },
  {
   "cell_type": "code",
   "execution_count": 15,
   "metadata": {},
   "outputs": [
    {
     "name": "stdout",
     "output_type": "stream",
     "text": [
      "{'name': 'manasa', 'age': '18', 'contact number': '9868451274', 'email': 'manasa@gmail.com'}\n",
      "{'name': 'manasa', 'age': '18', 'contact number': '9868451274', 'email': 'manasa@gmail.com'}\n",
      "{'name': 'manasa', 'age': '18', 'contact number': '9868451274', 'email': 'manasa@gmail.com', 'address': 'hyderabad'}\n",
      "{'name': 'manasa', 'age': '18', 'contact number': '9868451274', 'email': 'manasa@gmail.com'}\n"
     ]
    }
   ],
   "source": [
    "user1={'name':'manasa','age':'18','contact number': '9868451274','email': 'manasa@gmail.com'}\n",
    "user2=user1.copy()\n",
    "print(user1)\n",
    "print(user2)\n",
    "user1['address']=\"hyderabad\"\n",
    "print(user1)\n",
    "print(user2)"
   ]
  },
  {
   "cell_type": "code",
   "execution_count": 17,
   "metadata": {},
   "outputs": [
    {
     "name": "stdout",
     "output_type": "stream",
     "text": [
      "dict_values(['manasa', '18', '9868451274', 'manasa@gmail.com'])\n",
      "dict_items([('name', 'manasa'), ('age', '18'), ('contact number', '9868451274'), ('email', 'manasa@gmail.com')])\n"
     ]
    }
   ],
   "source": [
    "user1={'name':'manasa','age':'18','contact number': '9868451274','email': 'manasa@gmail.com'}\n",
    "print(user1.values())\n",
    "print(user1.items())\n"
   ]
  },
  {
   "cell_type": "code",
   "execution_count": 1,
   "metadata": {},
   "outputs": [
    {
     "name": "stdout",
     "output_type": "stream",
     "text": [
      "Python programming\n"
     ]
    }
   ],
   "source": [
    "list=[\"Python\",\"programming\"]\n",
    "print(\"%s %s\"%(list[0],list[1]))"
   ]
  },
  {
   "cell_type": "code",
   "execution_count": 2,
   "metadata": {},
   "outputs": [
    {
     "name": "stdout",
     "output_type": "stream",
     "text": [
      "True\n"
     ]
    }
   ],
   "source": [
    "print('Hello!2@#World'.istitle())"
   ]
  },
  {
   "cell_type": "code",
   "execution_count": 3,
   "metadata": {},
   "outputs": [
    {
     "name": "stdout",
     "output_type": "stream",
     "text": [
      "False\n"
     ]
    }
   ],
   "source": [
    "print('1.1'.isnumeric())"
   ]
  },
  {
   "cell_type": "code",
   "execution_count": 4,
   "metadata": {},
   "outputs": [
    {
     "name": "stdout",
     "output_type": "stream",
     "text": [
      "Python programming\n"
     ]
    }
   ],
   "source": [
    "list=[\"Python\",\"programming\"]\n",
    "print(\"{0} {1}\".format(list[0],list[1]))"
   ]
  },
  {
   "cell_type": "code",
   "execution_count": 4,
   "metadata": {},
   "outputs": [
    {
     "name": "stdout",
     "output_type": "stream",
     "text": [
      "Contact Manasa added\n",
      "Contact vasudha added\n"
     ]
    }
   ],
   "source": [
    "contact={}\n",
    "def addContact(name,phone):\n",
    "    if name not in contact:\n",
    "        contact[name]=phone\n",
    "        print(\"Contact %s added\" % name)\n",
    "    else:\n",
    "        print(\"Contact %s already exists\" % name)\n",
    "    return\n",
    "addContact(\"Manasa\",6847987542)\n",
    "addContact(\"vasudha\",8542512167)"
   ]
  },
  {
   "cell_type": "code",
   "execution_count": 5,
   "metadata": {},
   "outputs": [
    {
     "name": "stdout",
     "output_type": "stream",
     "text": [
      "Manasa : 6847987542\n",
      "vasudha : 8542512167\n",
      "Madhuri does not exist\n"
     ]
    }
   ],
   "source": [
    "#search for contact\n",
    "def searchContact(name):\n",
    "    if name in contact:\n",
    "        print(name,\":\",contact[name])\n",
    "    else:\n",
    "        print(\"%s does not exist\" % name)\n",
    "    return\n",
    "searchContact(\"Manasa\")\n",
    "searchContact(\"vasudha\")\n",
    "searchContact(\"Madhuri\")"
   ]
  },
  {
   "cell_type": "code",
   "execution_count": 9,
   "metadata": {},
   "outputs": [
    {
     "name": "stdout",
     "output_type": "stream",
     "text": [
      "{'Manasa': 6847987542, 'vasudha': 8542512167}\n"
     ]
    }
   ],
   "source": [
    "#new contacts is given as a dictionary\n",
    "print(contacts)"
   ]
  },
  {
   "cell_type": "code",
   "execution_count": 6,
   "metadata": {
    "scrolled": true
   },
   "outputs": [
    {
     "name": "stdout",
     "output_type": "stream",
     "text": [
      "1 contact added successfully\n",
      "{'mahema': 6842571258}\n"
     ]
    }
   ],
   "source": [
    "\n",
    "def importContact(newcontact):\n",
    "    contact.update(newcontact)\n",
    "    print(len(newcontact.keys()),\"contact added successfully\")\n",
    "    return\n",
    "newcontact={'mahema': 6842571258}\n",
    "importContact(newcontact)\n",
    "print(newcontact)"
   ]
  },
  {
   "cell_type": "code",
   "execution_count": 7,
   "metadata": {},
   "outputs": [
    {
     "name": "stdout",
     "output_type": "stream",
     "text": [
      "{'Manasa': 6847987542, 'vasudha': 8542512167, 'mahema': 6842571258}\n"
     ]
    }
   ],
   "source": [
    "print(contact)"
   ]
  },
  {
   "cell_type": "code",
   "execution_count": 8,
   "metadata": {},
   "outputs": [
    {
     "name": "stdout",
     "output_type": "stream",
     "text": [
      "Manasa : is deleted\n",
      "{'vasudha': 8542512167, 'mahema': 6842571258}\n"
     ]
    }
   ],
   "source": [
    "#delete objects from dictionary object\n",
    "def deleteContact(name):\n",
    "    if name in contact:\n",
    "        del contact[name]\n",
    "        print(name,\": is deleted\")\n",
    "    else:\n",
    "        print(name,\"does not exist\")\n",
    "    return\n",
    "deleteContact(\"Manasa\")\n",
    "print(contact)"
   ]
  },
  {
   "cell_type": "code",
   "execution_count": 11,
   "metadata": {},
   "outputs": [
    {
     "name": "stdout",
     "output_type": "stream",
     "text": [
      "vasudha : Updated with new phone number\n",
      "Manasa does not exist in contacts\n"
     ]
    }
   ],
   "source": [
    "def updateContact(name,phone):\n",
    "    if name in contact:\n",
    "        contact[name]=phone\n",
    "        print(name,\": Updated with new phone number\")\n",
    "    else:\n",
    "        print(name,\"does not exist in contacts\")\n",
    "    return\n",
    "updateContact(\"vasudha\",9452425412)\n",
    "updateContact(\"Manasa\",6847952361)\n",
    "        "
   ]
  },
  {
   "cell_type": "code",
   "execution_count": 12,
   "metadata": {},
   "outputs": [
    {
     "name": "stdout",
     "output_type": "stream",
     "text": [
      "{'vasudha': 9452425412, 'mahema': 6842571258}\n"
     ]
    }
   ],
   "source": [
    "print(contact)"
   ]
  },
  {
   "cell_type": "code",
   "execution_count": 14,
   "metadata": {},
   "outputs": [
    {
     "name": "stdout",
     "output_type": "stream",
     "text": [
      "1 2 3 4\n"
     ]
    }
   ],
   "source": [
    "lst=[1,2,3,4]\n",
    "print(\"%d %d %d %d\"%(lst[0],lst[1],lst[2],lst[3]))"
   ]
  },
  {
   "cell_type": "code",
   "execution_count": 21,
   "metadata": {},
   "outputs": [
    {
     "name": "stdout",
     "output_type": "stream",
     "text": [
      "value at : 1 value at : 2\n",
      "value at : 3 value at : 4\n"
     ]
    }
   ],
   "source": [
    "lst=[1,2,3,4,5]\n",
    "print(\"value at : {0} value at : {1}\".format(lst[0],lst[1]))\n",
    "print(\"value at : {0} value at : {1}\".format(lst[2],lst[3]))"
   ]
  },
  {
   "cell_type": "code",
   "execution_count": 22,
   "metadata": {},
   "outputs": [
    {
     "data": {
      "text/plain": [
       "123"
      ]
     },
     "execution_count": 22,
     "metadata": {},
     "output_type": "execute_result"
    }
   ],
   "source": [
    "from math import floor as f1\n",
    "f1(123.456)\n"
   ]
  },
  {
   "cell_type": "code",
   "execution_count": 24,
   "metadata": {},
   "outputs": [
    {
     "data": {
      "text/plain": [
       "120"
      ]
     },
     "execution_count": 24,
     "metadata": {},
     "output_type": "execute_result"
    }
   ],
   "source": [
    "from math import factorial as fact\n",
    "fact(5)"
   ]
  },
  {
   "cell_type": "code",
   "execution_count": 25,
   "metadata": {},
   "outputs": [
    {
     "data": {
      "text/plain": [
       "120"
      ]
     },
     "execution_count": 25,
     "metadata": {},
     "output_type": "execute_result"
    }
   ],
   "source": [
    "import math\n",
    "math.factorial(5)"
   ]
  },
  {
   "cell_type": "code",
   "execution_count": 31,
   "metadata": {},
   "outputs": [
    {
     "name": "stdout",
     "output_type": "stream",
     "text": [
      "49 53 92 69 106 62 62 19 98 76 "
     ]
    }
   ],
   "source": [
    "#generate random numbers\n",
    "import random\n",
    "def generateRandomnumbers(n,lb,ub):\n",
    "    for i in range(0,n):\n",
    "        print(random.randint(lb,ub),end=\" \")\n",
    "    return\n",
    "generateRandomnumbers(10,12,120)\n"
   ]
  },
  {
   "cell_type": "code",
   "execution_count": 29,
   "metadata": {},
   "outputs": [
    {
     "name": "stdout",
     "output_type": "stream",
     "text": [
      "1\n"
     ]
    }
   ],
   "source": [
    "import math\n",
    "list=[1,2,3,4,5,6,7,8,9,10]\n",
    "print(min(list))\n",
    "    "
   ]
  },
  {
   "cell_type": "code",
   "execution_count": 34,
   "metadata": {},
   "outputs": [
    {
     "name": "stdout",
     "output_type": "stream",
     "text": [
      "The ceil of 2.3 is : 3\n"
     ]
    }
   ],
   "source": [
    "# returning the ceil of 2.3\n",
    "import math\n",
    "a=2.3\n",
    "print (\"The ceil of 2.3 is : \", end=\"\") \n",
    "print (math.ceil(a)) \n",
    "  "
   ]
  },
  {
   "cell_type": "code",
   "execution_count": 44,
   "metadata": {},
   "outputs": [
    {
     "name": "stdout",
     "output_type": "stream",
     "text": [
      "The absolute value of -10 is : 10.0\n"
     ]
    }
   ],
   "source": [
    "import math\n",
    "a = -10\n",
    "b= 5 \n",
    "# returning the absolute value. \n",
    "print (\"The absolute value of -10 is : \", end=\"\") \n",
    "print (math.fabs(a)) \n",
    "  "
   ]
  },
  {
   "cell_type": "code",
   "execution_count": 37,
   "metadata": {},
   "outputs": [
    {
     "name": "stdout",
     "output_type": "stream",
     "text": [
      "The e**4 value is : 54.598150033144236\n"
     ]
    }
   ],
   "source": [
    "import math \n",
    "# returning the exp of 4 \n",
    "print (\"The e**4 value is : \", end=\"\") \n",
    "print (math.exp(4)) \n",
    "   "
   ]
  },
  {
   "cell_type": "code",
   "execution_count": 38,
   "metadata": {},
   "outputs": [
    {
     "name": "stdout",
     "output_type": "stream",
     "text": [
      "The value of log 2 with base 3 is : 0.6309297535714574\n"
     ]
    }
   ],
   "source": [
    "import math\n",
    "# returning the log of 2,3 \n",
    "print (\"The value of log 2 with base 3 is : \", end=\"\") \n",
    "print (math.log(2,3)) "
   ]
  },
  {
   "cell_type": "code",
   "execution_count": 39,
   "metadata": {},
   "outputs": [
    {
     "name": "stdout",
     "output_type": "stream",
     "text": [
      "The value of 3 to the power 2 is : 9.0\n"
     ]
    }
   ],
   "source": [
    "import math   \n",
    "# returning the value of 3**2 \n",
    "print (\"The value of 3 to the power 2 is : \", end=\"\") \n",
    "print (math.pow(3,2)) \n",
    "   "
   ]
  },
  {
   "cell_type": "code",
   "execution_count": 40,
   "metadata": {},
   "outputs": [
    {
     "name": "stdout",
     "output_type": "stream",
     "text": [
      "The value of square root of 25 : 5.0\n"
     ]
    }
   ],
   "source": [
    "import math\n",
    "# returning the square root of 25 \n",
    "print (\"The value of square root of 25 : \", end=\"\") \n",
    "print (math.sqrt(25)) "
   ]
  },
  {
   "cell_type": "code",
   "execution_count": 41,
   "metadata": {},
   "outputs": [
    {
     "name": "stdout",
     "output_type": "stream",
     "text": [
      "The value of sine of pi/6 is : 0.49999999999999994\n"
     ]
    }
   ],
   "source": [
    "import math \n",
    "a = math.pi/6\n",
    "# returning the value of sine of pi/6 \n",
    "print (\"The value of sine of pi/6 is : \", end=\"\") \n",
    "print (math.sin(a)) "
   ]
  },
  {
   "cell_type": "code",
   "execution_count": 42,
   "metadata": {},
   "outputs": [
    {
     "name": "stdout",
     "output_type": "stream",
     "text": [
      "The value of cosine of pi/6 is : 0.8660254037844387\n"
     ]
    }
   ],
   "source": [
    "import math\n",
    "# returning the value of cosine of pi/6 \n",
    "print (\"The value of cosine of pi/6 is : \", end=\"\") \n",
    "print (math.cos(a)) "
   ]
  },
  {
   "cell_type": "code",
   "execution_count": 43,
   "metadata": {},
   "outputs": [
    {
     "name": "stdout",
     "output_type": "stream",
     "text": [
      "The value of tangent of pi/6 is : 0.5773502691896257\n"
     ]
    }
   ],
   "source": [
    "import math \n",
    "a = math.pi/6\n",
    "b = 3\n",
    "c = 4 \n",
    "# returning the value of tangent of pi/6 \n",
    "print (\"The value of tangent of pi/6 is : \", end=\"\") \n",
    "print (math.tan(a)) "
   ]
  },
  {
   "cell_type": "code",
   "execution_count": 45,
   "metadata": {},
   "outputs": [
    {
     "name": "stdout",
     "output_type": "stream",
     "text": [
      "A random number from list is : 8\n"
     ]
    }
   ],
   "source": [
    "import random \n",
    "# using choice() to generate a random number from a  \n",
    "# given list of numbers. \n",
    "print (\"A random number from list is : \",end=\"\") \n",
    "print (random.choice([1, 4, 8, 10, 3])) \n",
    "  "
   ]
  },
  {
   "cell_type": "code",
   "execution_count": 46,
   "metadata": {},
   "outputs": [
    {
     "name": "stdout",
     "output_type": "stream",
     "text": [
      "A random number between 0 and 1 is : 0.4008376272417531\n"
     ]
    }
   ],
   "source": [
    "import random \n",
    "# using random() to generate a random number \n",
    "# between 0 and 1 \n",
    "print (\"A random number between 0 and 1 is : \", end=\"\") \n",
    "print (random.random()) \n",
    "  "
   ]
  },
  {
   "cell_type": "code",
   "execution_count": 52,
   "metadata": {},
   "outputs": [
    {
     "name": "stdout",
     "output_type": "stream",
     "text": [
      "None\n"
     ]
    }
   ],
   "source": [
    "import random\n",
    "# using seed() to seed a random number \n",
    "random.seed(5) \n",
    "print(random.seed(5))"
   ]
  },
  {
   "cell_type": "code",
   "execution_count": null,
   "metadata": {},
   "outputs": [],
   "source": [
    "#generate random numbers\n",
    "import random\n",
    "def generateRandomnumbers(n,lb,ub):\n",
    "    for i in range(0,n):\n",
    "        print(random.randint(lb,ub),end=\" \")\n",
    "    return\n",
    "generateRandomnumbers(10,12,120)\n"
   ]
  },
  {
   "cell_type": "code",
   "execution_count": 56,
   "metadata": {},
   "outputs": [
    {
     "name": "stdout",
     "output_type": "stream",
     "text": [
      "[5, 1, 2]\n"
     ]
    }
   ],
   "source": [
    "import random \n",
    "from random import sample \n",
    "# Prints list of random items of given length \n",
    "list1 = [1, 2, 3, 4, 5]  \n",
    "print(sample(list1,3)) "
   ]
  },
  {
   "cell_type": "code",
   "execution_count": 54,
   "metadata": {},
   "outputs": [
    {
     "name": "stdout",
     "output_type": "stream",
     "text": [
      "floating point triangular\n",
      "17.32712359110822\n"
     ]
    }
   ],
   "source": [
    "import random\n",
    "print(\"floating point triangular\")\n",
    "print(random.triangular(10.5,20.5,23.5))"
   ]
  },
  {
   "cell_type": "code",
   "execution_count": 57,
   "metadata": {},
   "outputs": [
    {
     "name": "stdout",
     "output_type": "stream",
     "text": [
      "floating points using given range\n",
      "22.139378511535753\n"
     ]
    }
   ],
   "source": [
    "import random\n",
    "print(\"floating points using given range\")\n",
    "print(random.uniform(10.5,25.5))"
   ]
  },
  {
   "cell_type": "code",
   "execution_count": 59,
   "metadata": {},
   "outputs": [
    {
     "name": "stdout",
     "output_type": "stream",
     "text": [
      "Generate random integer number within a given range\n",
      "10\n",
      "20\n"
     ]
    }
   ],
   "source": [
    "    import random\n",
    "    print(\"Generate random integer number within a given range\")\n",
    "    print(random.randrange(10, 50, 5))\n",
    "    print(random.randrange(10, 50, 5))"
   ]
  },
  {
   "cell_type": "code",
   "execution_count": 60,
   "metadata": {},
   "outputs": [
    {
     "name": "stdout",
     "output_type": "stream",
     "text": [
      "Random number with seed  0.793340083761663\n",
      "Random number with seed  0.793340083761663\n"
     ]
    }
   ],
   "source": [
    "    import random\n",
    "    random.seed(6)\n",
    "    print(\"Random number with seed \",random.random())\n",
    "    random.seed(6) \n",
    "    print(\"Random number with seed \",random.random())"
   ]
  },
  {
   "cell_type": "code",
   "execution_count": 61,
   "metadata": {},
   "outputs": [
    {
     "name": "stdout",
     "output_type": "stream",
     "text": [
      "Printing shuffled list  [8, 12, 5, 9, 2]\n"
     ]
    }
   ],
   "source": [
    "import random\n",
    "list = [2,5,8,9,12]\n",
    "random.shuffle(list)\n",
    "print (\"Printing shuffled list \", list)"
   ]
  }
 ],
 "metadata": {
  "kernelspec": {
   "display_name": "Python 3",
   "language": "python",
   "name": "python3"
  },
  "language_info": {
   "codemirror_mode": {
    "name": "ipython",
    "version": 3
   },
   "file_extension": ".py",
   "mimetype": "text/x-python",
   "name": "python",
   "nbconvert_exporter": "python",
   "pygments_lexer": "ipython3",
   "version": "3.7.3"
  }
 },
 "nbformat": 4,
 "nbformat_minor": 2
}
